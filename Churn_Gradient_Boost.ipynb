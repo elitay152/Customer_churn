{
 "cells": [
  {
   "attachments": {},
   "cell_type": "markdown",
   "metadata": {},
   "source": [
    "## Classifying Customer Churn with Gradient Boosting\n",
    "by Eli Taylor\n",
    "### Import libraries"
   ]
  },
  {
   "cell_type": "code",
   "execution_count": 40,
   "metadata": {},
   "outputs": [],
   "source": [
    "import pandas as pd\n",
    "import numpy as np\n",
    "import matplotlib.pyplot as plt\n",
    "\n",
    "from sklearn.model_selection import train_test_split\n",
    "from sklearn.ensemble import GradientBoostingClassifier\n",
    "from sklearn.model_selection import RepeatedStratifiedKFold, cross_val_score\n",
    "from sklearn.metrics import roc_curve, RocCurveDisplay, auc"
   ]
  },
  {
   "attachments": {},
   "cell_type": "markdown",
   "metadata": {},
   "source": [
    "### Import data"
   ]
  },
  {
   "cell_type": "code",
   "execution_count": 2,
   "metadata": {},
   "outputs": [],
   "source": [
    "# I have already cleaned this dataset, converted values to numeric where needed, and created dummy variables\n",
    "data_for_modeling = pd.read_csv('Cleaned_data.csv', index_col=0)"
   ]
  },
  {
   "attachments": {},
   "cell_type": "markdown",
   "metadata": {},
   "source": [
    "### Evaluate data"
   ]
  },
  {
   "cell_type": "code",
   "execution_count": 3,
   "metadata": {},
   "outputs": [
    {
     "name": "stdout",
     "output_type": "stream",
     "text": [
      "<class 'pandas.core.frame.DataFrame'>\n",
      "Int64Index: 10000 entries, 1 to 10000\n",
      "Data columns (total 12 columns):\n",
      " #   Column             Non-Null Count  Dtype  \n",
      "---  ------             --------------  -----  \n",
      " 0   CreditScore        10000 non-null  int64  \n",
      " 1   Age                10000 non-null  int64  \n",
      " 2   Tenure             10000 non-null  int64  \n",
      " 3   Balance            10000 non-null  float64\n",
      " 4   NumOfProducts      10000 non-null  int64  \n",
      " 5   HasCrCard          10000 non-null  int64  \n",
      " 6   IsActiveMember     10000 non-null  int64  \n",
      " 7   EstimatedSalary    10000 non-null  float64\n",
      " 8   Exited             10000 non-null  int64  \n",
      " 9   Geography_Germany  10000 non-null  int64  \n",
      " 10  Geography_Spain    10000 non-null  int64  \n",
      " 11  Gender_Male        10000 non-null  int64  \n",
      "dtypes: float64(2), int64(10)\n",
      "memory usage: 1015.6 KB\n"
     ]
    }
   ],
   "source": [
    "# view data\n",
    "data_for_modeling.info()"
   ]
  },
  {
   "cell_type": "code",
   "execution_count": 4,
   "metadata": {},
   "outputs": [
    {
     "data": {
      "text/html": [
       "<div>\n",
       "<style scoped>\n",
       "    .dataframe tbody tr th:only-of-type {\n",
       "        vertical-align: middle;\n",
       "    }\n",
       "\n",
       "    .dataframe tbody tr th {\n",
       "        vertical-align: top;\n",
       "    }\n",
       "\n",
       "    .dataframe thead th {\n",
       "        text-align: right;\n",
       "    }\n",
       "</style>\n",
       "<table border=\"1\" class=\"dataframe\">\n",
       "  <thead>\n",
       "    <tr style=\"text-align: right;\">\n",
       "      <th></th>\n",
       "      <th>CreditScore</th>\n",
       "      <th>Age</th>\n",
       "      <th>Tenure</th>\n",
       "      <th>Balance</th>\n",
       "      <th>NumOfProducts</th>\n",
       "      <th>HasCrCard</th>\n",
       "      <th>IsActiveMember</th>\n",
       "      <th>EstimatedSalary</th>\n",
       "      <th>Exited</th>\n",
       "      <th>Geography_Germany</th>\n",
       "      <th>Geography_Spain</th>\n",
       "      <th>Gender_Male</th>\n",
       "    </tr>\n",
       "  </thead>\n",
       "  <tbody>\n",
       "    <tr>\n",
       "      <th>count</th>\n",
       "      <td>10000.000000</td>\n",
       "      <td>10000.000000</td>\n",
       "      <td>10000.000000</td>\n",
       "      <td>10000.000000</td>\n",
       "      <td>10000.000000</td>\n",
       "      <td>10000.00000</td>\n",
       "      <td>10000.000000</td>\n",
       "      <td>10000.000000</td>\n",
       "      <td>10000.000000</td>\n",
       "      <td>10000.000000</td>\n",
       "      <td>10000.000000</td>\n",
       "      <td>10000.000000</td>\n",
       "    </tr>\n",
       "    <tr>\n",
       "      <th>mean</th>\n",
       "      <td>650.528800</td>\n",
       "      <td>38.921800</td>\n",
       "      <td>5.012800</td>\n",
       "      <td>76485.889288</td>\n",
       "      <td>1.530200</td>\n",
       "      <td>0.70550</td>\n",
       "      <td>0.515100</td>\n",
       "      <td>100090.239881</td>\n",
       "      <td>0.203700</td>\n",
       "      <td>0.250900</td>\n",
       "      <td>0.247700</td>\n",
       "      <td>0.545700</td>\n",
       "    </tr>\n",
       "    <tr>\n",
       "      <th>std</th>\n",
       "      <td>96.653299</td>\n",
       "      <td>10.487806</td>\n",
       "      <td>2.892174</td>\n",
       "      <td>62397.405202</td>\n",
       "      <td>0.581654</td>\n",
       "      <td>0.45584</td>\n",
       "      <td>0.499797</td>\n",
       "      <td>57510.492818</td>\n",
       "      <td>0.402769</td>\n",
       "      <td>0.433553</td>\n",
       "      <td>0.431698</td>\n",
       "      <td>0.497932</td>\n",
       "    </tr>\n",
       "    <tr>\n",
       "      <th>min</th>\n",
       "      <td>350.000000</td>\n",
       "      <td>18.000000</td>\n",
       "      <td>0.000000</td>\n",
       "      <td>0.000000</td>\n",
       "      <td>1.000000</td>\n",
       "      <td>0.00000</td>\n",
       "      <td>0.000000</td>\n",
       "      <td>11.580000</td>\n",
       "      <td>0.000000</td>\n",
       "      <td>0.000000</td>\n",
       "      <td>0.000000</td>\n",
       "      <td>0.000000</td>\n",
       "    </tr>\n",
       "    <tr>\n",
       "      <th>25%</th>\n",
       "      <td>584.000000</td>\n",
       "      <td>32.000000</td>\n",
       "      <td>3.000000</td>\n",
       "      <td>0.000000</td>\n",
       "      <td>1.000000</td>\n",
       "      <td>0.00000</td>\n",
       "      <td>0.000000</td>\n",
       "      <td>51002.110000</td>\n",
       "      <td>0.000000</td>\n",
       "      <td>0.000000</td>\n",
       "      <td>0.000000</td>\n",
       "      <td>0.000000</td>\n",
       "    </tr>\n",
       "    <tr>\n",
       "      <th>50%</th>\n",
       "      <td>652.000000</td>\n",
       "      <td>37.000000</td>\n",
       "      <td>5.000000</td>\n",
       "      <td>97198.540000</td>\n",
       "      <td>1.000000</td>\n",
       "      <td>1.00000</td>\n",
       "      <td>1.000000</td>\n",
       "      <td>100193.915000</td>\n",
       "      <td>0.000000</td>\n",
       "      <td>0.000000</td>\n",
       "      <td>0.000000</td>\n",
       "      <td>1.000000</td>\n",
       "    </tr>\n",
       "    <tr>\n",
       "      <th>75%</th>\n",
       "      <td>718.000000</td>\n",
       "      <td>44.000000</td>\n",
       "      <td>7.000000</td>\n",
       "      <td>127644.240000</td>\n",
       "      <td>2.000000</td>\n",
       "      <td>1.00000</td>\n",
       "      <td>1.000000</td>\n",
       "      <td>149388.247500</td>\n",
       "      <td>0.000000</td>\n",
       "      <td>1.000000</td>\n",
       "      <td>0.000000</td>\n",
       "      <td>1.000000</td>\n",
       "    </tr>\n",
       "    <tr>\n",
       "      <th>max</th>\n",
       "      <td>850.000000</td>\n",
       "      <td>92.000000</td>\n",
       "      <td>10.000000</td>\n",
       "      <td>250898.090000</td>\n",
       "      <td>4.000000</td>\n",
       "      <td>1.00000</td>\n",
       "      <td>1.000000</td>\n",
       "      <td>199992.480000</td>\n",
       "      <td>1.000000</td>\n",
       "      <td>1.000000</td>\n",
       "      <td>1.000000</td>\n",
       "      <td>1.000000</td>\n",
       "    </tr>\n",
       "  </tbody>\n",
       "</table>\n",
       "</div>"
      ],
      "text/plain": [
       "        CreditScore           Age        Tenure        Balance  NumOfProducts  \\\n",
       "count  10000.000000  10000.000000  10000.000000   10000.000000   10000.000000   \n",
       "mean     650.528800     38.921800      5.012800   76485.889288       1.530200   \n",
       "std       96.653299     10.487806      2.892174   62397.405202       0.581654   \n",
       "min      350.000000     18.000000      0.000000       0.000000       1.000000   \n",
       "25%      584.000000     32.000000      3.000000       0.000000       1.000000   \n",
       "50%      652.000000     37.000000      5.000000   97198.540000       1.000000   \n",
       "75%      718.000000     44.000000      7.000000  127644.240000       2.000000   \n",
       "max      850.000000     92.000000     10.000000  250898.090000       4.000000   \n",
       "\n",
       "         HasCrCard  IsActiveMember  EstimatedSalary        Exited  \\\n",
       "count  10000.00000    10000.000000     10000.000000  10000.000000   \n",
       "mean       0.70550        0.515100    100090.239881      0.203700   \n",
       "std        0.45584        0.499797     57510.492818      0.402769   \n",
       "min        0.00000        0.000000        11.580000      0.000000   \n",
       "25%        0.00000        0.000000     51002.110000      0.000000   \n",
       "50%        1.00000        1.000000    100193.915000      0.000000   \n",
       "75%        1.00000        1.000000    149388.247500      0.000000   \n",
       "max        1.00000        1.000000    199992.480000      1.000000   \n",
       "\n",
       "       Geography_Germany  Geography_Spain   Gender_Male  \n",
       "count       10000.000000     10000.000000  10000.000000  \n",
       "mean            0.250900         0.247700      0.545700  \n",
       "std             0.433553         0.431698      0.497932  \n",
       "min             0.000000         0.000000      0.000000  \n",
       "25%             0.000000         0.000000      0.000000  \n",
       "50%             0.000000         0.000000      1.000000  \n",
       "75%             1.000000         0.000000      1.000000  \n",
       "max             1.000000         1.000000      1.000000  "
      ]
     },
     "execution_count": 4,
     "metadata": {},
     "output_type": "execute_result"
    }
   ],
   "source": [
    "data_for_modeling.describe()"
   ]
  },
  {
   "cell_type": "code",
   "execution_count": 5,
   "metadata": {},
   "outputs": [
    {
     "data": {
      "text/html": [
       "<div>\n",
       "<style scoped>\n",
       "    .dataframe tbody tr th:only-of-type {\n",
       "        vertical-align: middle;\n",
       "    }\n",
       "\n",
       "    .dataframe tbody tr th {\n",
       "        vertical-align: top;\n",
       "    }\n",
       "\n",
       "    .dataframe thead th {\n",
       "        text-align: right;\n",
       "    }\n",
       "</style>\n",
       "<table border=\"1\" class=\"dataframe\">\n",
       "  <thead>\n",
       "    <tr style=\"text-align: right;\">\n",
       "      <th></th>\n",
       "      <th>CreditScore</th>\n",
       "      <th>Age</th>\n",
       "      <th>Tenure</th>\n",
       "      <th>Balance</th>\n",
       "      <th>NumOfProducts</th>\n",
       "      <th>HasCrCard</th>\n",
       "      <th>IsActiveMember</th>\n",
       "      <th>EstimatedSalary</th>\n",
       "      <th>Exited</th>\n",
       "      <th>Geography_Germany</th>\n",
       "      <th>Geography_Spain</th>\n",
       "      <th>Gender_Male</th>\n",
       "    </tr>\n",
       "    <tr>\n",
       "      <th>RowNumber</th>\n",
       "      <th></th>\n",
       "      <th></th>\n",
       "      <th></th>\n",
       "      <th></th>\n",
       "      <th></th>\n",
       "      <th></th>\n",
       "      <th></th>\n",
       "      <th></th>\n",
       "      <th></th>\n",
       "      <th></th>\n",
       "      <th></th>\n",
       "      <th></th>\n",
       "    </tr>\n",
       "  </thead>\n",
       "  <tbody>\n",
       "    <tr>\n",
       "      <th>1</th>\n",
       "      <td>619</td>\n",
       "      <td>42</td>\n",
       "      <td>2</td>\n",
       "      <td>0.00</td>\n",
       "      <td>1</td>\n",
       "      <td>1</td>\n",
       "      <td>1</td>\n",
       "      <td>101348.88</td>\n",
       "      <td>1</td>\n",
       "      <td>0</td>\n",
       "      <td>0</td>\n",
       "      <td>0</td>\n",
       "    </tr>\n",
       "    <tr>\n",
       "      <th>2</th>\n",
       "      <td>608</td>\n",
       "      <td>41</td>\n",
       "      <td>1</td>\n",
       "      <td>83807.86</td>\n",
       "      <td>1</td>\n",
       "      <td>0</td>\n",
       "      <td>1</td>\n",
       "      <td>112542.58</td>\n",
       "      <td>0</td>\n",
       "      <td>0</td>\n",
       "      <td>1</td>\n",
       "      <td>0</td>\n",
       "    </tr>\n",
       "    <tr>\n",
       "      <th>3</th>\n",
       "      <td>502</td>\n",
       "      <td>42</td>\n",
       "      <td>8</td>\n",
       "      <td>159660.80</td>\n",
       "      <td>3</td>\n",
       "      <td>1</td>\n",
       "      <td>0</td>\n",
       "      <td>113931.57</td>\n",
       "      <td>1</td>\n",
       "      <td>0</td>\n",
       "      <td>0</td>\n",
       "      <td>0</td>\n",
       "    </tr>\n",
       "    <tr>\n",
       "      <th>4</th>\n",
       "      <td>699</td>\n",
       "      <td>39</td>\n",
       "      <td>1</td>\n",
       "      <td>0.00</td>\n",
       "      <td>2</td>\n",
       "      <td>0</td>\n",
       "      <td>0</td>\n",
       "      <td>93826.63</td>\n",
       "      <td>0</td>\n",
       "      <td>0</td>\n",
       "      <td>0</td>\n",
       "      <td>0</td>\n",
       "    </tr>\n",
       "    <tr>\n",
       "      <th>5</th>\n",
       "      <td>850</td>\n",
       "      <td>43</td>\n",
       "      <td>2</td>\n",
       "      <td>125510.82</td>\n",
       "      <td>1</td>\n",
       "      <td>1</td>\n",
       "      <td>1</td>\n",
       "      <td>79084.10</td>\n",
       "      <td>0</td>\n",
       "      <td>0</td>\n",
       "      <td>1</td>\n",
       "      <td>0</td>\n",
       "    </tr>\n",
       "  </tbody>\n",
       "</table>\n",
       "</div>"
      ],
      "text/plain": [
       "           CreditScore  Age  Tenure    Balance  NumOfProducts  HasCrCard  \\\n",
       "RowNumber                                                                  \n",
       "1                  619   42       2       0.00              1          1   \n",
       "2                  608   41       1   83807.86              1          0   \n",
       "3                  502   42       8  159660.80              3          1   \n",
       "4                  699   39       1       0.00              2          0   \n",
       "5                  850   43       2  125510.82              1          1   \n",
       "\n",
       "           IsActiveMember  EstimatedSalary  Exited  Geography_Germany  \\\n",
       "RowNumber                                                               \n",
       "1                       1        101348.88       1                  0   \n",
       "2                       1        112542.58       0                  0   \n",
       "3                       0        113931.57       1                  0   \n",
       "4                       0         93826.63       0                  0   \n",
       "5                       1         79084.10       0                  0   \n",
       "\n",
       "           Geography_Spain  Gender_Male  \n",
       "RowNumber                                \n",
       "1                        0            0  \n",
       "2                        1            0  \n",
       "3                        0            0  \n",
       "4                        0            0  \n",
       "5                        1            0  "
      ]
     },
     "execution_count": 5,
     "metadata": {},
     "output_type": "execute_result"
    }
   ],
   "source": [
    "data_for_modeling.head()"
   ]
  },
  {
   "attachments": {},
   "cell_type": "markdown",
   "metadata": {},
   "source": [
    "### Prepare data for modeling\n",
    "Sklearn documentation: https://scikit-learn.org/stable/modules/generated/sklearn.ensemble.GradientBoostingClassifier.html \\\n",
    "SOURCE - Machine Learning Mastery: https://machinelearningmastery.com/gradient-boosting-machine-ensemble-in-python/ \\\n",
    "Reference for ROC curve: https://www.statology.org/plot-multiple-roc-curves-python/"
   ]
  },
  {
   "cell_type": "code",
   "execution_count": 51,
   "metadata": {},
   "outputs": [],
   "source": [
    "# target variable is \"Exited\" aka whether customer was retained or left\n",
    "X = data_for_modeling.drop(columns=['Exited'])\n",
    "y = data_for_modeling['Exited']"
   ]
  },
  {
   "cell_type": "code",
   "execution_count": 52,
   "metadata": {},
   "outputs": [],
   "source": [
    "# split into training and testing data sets\n",
    "X_train, X_test, y_train, y_test = train_test_split(\n",
    "    X, y, test_size=0.3, random_state=42\n",
    "    )"
   ]
  },
  {
   "cell_type": "markdown",
   "metadata": {},
   "source": [
    "### Create Model"
   ]
  },
  {
   "cell_type": "code",
   "execution_count": 78,
   "metadata": {},
   "outputs": [],
   "source": [
    "# function to create model where parameters can be specified to make it easier to tune later\n",
    "def model_creation(n_est=100,lr=1.0, max_depth=1):\n",
    "    # define the model\n",
    "    model = GradientBoostingClassifier(n_estimators=n_est, learning_rate=lr, max_depth=max_depth, random_state=42)\n",
    "    # fit the model on the dataset\n",
    "    model.fit(X_train, y_train)\n",
    "    return model\n",
    "\n",
    "# initial model\n",
    "model_1 = model_creation()"
   ]
  },
  {
   "cell_type": "code",
   "execution_count": 79,
   "metadata": {},
   "outputs": [
    {
     "name": "stdout",
     "output_type": "stream",
     "text": [
      "Predictions: [0 0 0 ... 0 0 0]\n",
      "A Single Predicted Class: 0\n"
     ]
    }
   ],
   "source": [
    "# get predictions\n",
    "yhat = model_1.predict(X_test)\n",
    "print(f'Predictions: {yhat}')\n",
    "# get a single prediction\n",
    "print(f'A Single Predicted Class: {yhat[0]}')"
   ]
  },
  {
   "cell_type": "markdown",
   "metadata": {},
   "source": [
    "### Model Evaluation"
   ]
  },
  {
   "cell_type": "code",
   "execution_count": 67,
   "metadata": {},
   "outputs": [],
   "source": [
    "# function prints a collection of model evaluation metrics\n",
    "def evaluate_model(model):\n",
    "    score = model.score(X_test, y_test)\n",
    "    # score returns the mean accuracy on the given test data and labels.\n",
    "    print(f'Model score: {round(score, 4)}')\n",
    "\n",
    "    # define the evaluation method\n",
    "    cross_validation = RepeatedStratifiedKFold(n_splits=10, n_repeats=3, random_state=42)\n",
    "    # evaluate the model on the dataset\n",
    "    n_scores = cross_val_score(model, X_test, y_test, scoring='accuracy', cv=cross_validation, n_jobs=-1)\n",
    "    # report performance\n",
    "    print(f'Mean Accuracy using Cross-Validation: {round(np.mean(n_scores), 4)}')\n",
    "    print(f'Standard Deviation using Cross-Validation: {round(np.std(n_scores), 4)}')\n",
    "\n",
    "def plot_the_roc(model):\n",
    "    y_pred = model.predict_proba(X_test)[:, 1]\n",
    "    fpr, tpr, thresholds = roc_curve(y_test, y_pred)\n",
    "    roc_auc = auc(fpr, tpr)\n",
    "    display = RocCurveDisplay(fpr=fpr, tpr=tpr, roc_auc=roc_auc, estimator_name='example estimator')\n",
    "    display.plot()\n",
    "    plt.title('ROC Curve')\n",
    "    plt.show()"
   ]
  },
  {
   "cell_type": "code",
   "execution_count": 80,
   "metadata": {},
   "outputs": [
    {
     "name": "stdout",
     "output_type": "stream",
     "text": [
      "Model score: 0.8637\n"
     ]
    },
    {
     "name": "stdout",
     "output_type": "stream",
     "text": [
      "Mean Accuracy using Cross-Validation: 0.8597\n",
      "Standard Deviation using Cross-Validation: 0.0202\n"
     ]
    },
    {
     "data": {
      "image/png": "[encoded data removed]",
      "text/plain": [
       "<Figure size 640x480 with 1 Axes>"
      ]
     },
     "metadata": {},
     "output_type": "display_data"
    }
   ],
   "source": [
    "evaluate_model(model_1)\n",
    "plot_the_roc(model_1)"
   ]
  },
  {
   "cell_type": "markdown",
   "metadata": {},
   "source": [
    "### Hyperparameter Tuning\n",
    "Info on gradient boosting parameters: https://medium.com/all-things-ai/in-depth-parameter-tuning-for-gradient-boosting-3363992e9bae"
   ]
  },
  {
   "cell_type": "code",
   "execution_count": 81,
   "metadata": {},
   "outputs": [
    {
     "name": "stdout",
     "output_type": "stream",
     "text": [
      "Model results for n_estimators = 32\n"
     ]
    },
    {
     "name": "stdout",
     "output_type": "stream",
     "text": [
      "Model score: 0.8647\n",
      "Mean Accuracy using Cross-Validation: 0.8617\n",
      "Standard Deviation using Cross-Validation: 0.0189\n",
      "\n",
      "Model results for n_estimators = 64\n",
      "Model score: 0.8603\n",
      "Mean Accuracy using Cross-Validation: 0.8608\n",
      "Standard Deviation using Cross-Validation: 0.02\n",
      "\n",
      "Model results for n_estimators = 100\n",
      "Model score: 0.8637\n",
      "Mean Accuracy using Cross-Validation: 0.8597\n",
      "Standard Deviation using Cross-Validation: 0.0202\n",
      "\n",
      "Model results for n_estimators = 200\n",
      "Model score: 0.864\n",
      "Mean Accuracy using Cross-Validation: 0.8578\n",
      "Standard Deviation using Cross-Validation: 0.0178\n",
      "\n"
     ]
    }
   ],
   "source": [
    "# initial values: n_estimators=100, learning_rate=1.0, max_depth=1\n",
    "\n",
    "n_estimators = [32, 64, 100, 200]\n",
    "\n",
    "# review model scores for different number of estimators\n",
    "for est in n_estimators:\n",
    "    print(f'Model results for n_estimators = {est}')\n",
    "    model = model_creation(n_est=est)\n",
    "    evaluate_model(model)\n",
    "    print(\"\")"
   ]
  },
  {
   "cell_type": "code",
   "execution_count": 73,
   "metadata": {},
   "outputs": [
    {
     "name": "stdout",
     "output_type": "stream",
     "text": [
      "Model results for max_depth = 1\n",
      "Model score: 0.8637\n",
      "Mean Accuracy using Cross-Validation: 0.8597\n",
      "Standard Deviation using Cross-Validation: 0.0202\n",
      "\n",
      "Model results for max_depth = 4\n",
      "Model score: 0.8273\n",
      "Mean Accuracy using Cross-Validation: 0.829\n",
      "Standard Deviation using Cross-Validation: 0.0185\n",
      "\n",
      "Model results for max_depth = 8\n",
      "Model score: 0.842\n",
      "Mean Accuracy using Cross-Validation: 0.8466\n",
      "Standard Deviation using Cross-Validation: 0.0174\n",
      "\n",
      "Model results for max_depth = 16\n",
      "Model score: 0.852\n",
      "Mean Accuracy using Cross-Validation: 0.8204\n",
      "Standard Deviation using Cross-Validation: 0.0227\n",
      "\n"
     ]
    }
   ],
   "source": [
    "max_depth = [1, 4, 8, 16]\n",
    "\n",
    "# review model scores for different values of max_depth\n",
    "for dep in max_depth:\n",
    "    print(f'Model results for max_depth = {dep}')\n",
    "    model = model_creation(max_depth = dep)\n",
    "    evaluate_model(model)\n",
    "    print(\"\")"
   ]
  },
  {
   "cell_type": "code",
   "execution_count": 74,
   "metadata": {},
   "outputs": [
    {
     "name": "stdout",
     "output_type": "stream",
     "text": [
      "Model results for max_depth = 1.0\n",
      "Model score: 0.8637\n",
      "Mean Accuracy using Cross-Validation: 0.8597\n",
      "Standard Deviation using Cross-Validation: 0.0202\n",
      "\n",
      "Model results for max_depth = 0.5\n",
      "Model score: 0.8633\n",
      "Mean Accuracy using Cross-Validation: 0.8603\n",
      "Standard Deviation using Cross-Validation: 0.0178\n",
      "\n",
      "Model results for max_depth = 0.25\n",
      "Model score: 0.8637\n",
      "Mean Accuracy using Cross-Validation: 0.8629\n",
      "Standard Deviation using Cross-Validation: 0.0175\n",
      "\n",
      "Model results for max_depth = 0.1\n",
      "Model score: 0.8613\n",
      "Mean Accuracy using Cross-Validation: 0.8603\n",
      "Standard Deviation using Cross-Validation: 0.0157\n",
      "\n"
     ]
    }
   ],
   "source": [
    "learning_rate = [1.0, 0.5, 0.25, 0.1]\n",
    "\n",
    "# review model scores for different values of max_depth\n",
    "for rate in learning_rate:\n",
    "    print(f'Model results for max_depth = {rate}')\n",
    "    model = model_creation(lr = rate)\n",
    "    evaluate_model(model)\n",
    "    print(\"\")"
   ]
  },
  {
   "cell_type": "code",
   "execution_count": 75,
   "metadata": {},
   "outputs": [],
   "source": [
    "model_2 = model_creation(32, 0.1, 1)"
   ]
  },
  {
   "cell_type": "code",
   "execution_count": 76,
   "metadata": {},
   "outputs": [
    {
     "name": "stdout",
     "output_type": "stream",
     "text": [
      "Model score: 0.8267\n",
      "Mean Accuracy using Cross-Validation: 0.8233\n",
      "Standard Deviation using Cross-Validation: 0.0089\n"
     ]
    },
    {
     "data": {
      "image/png": "[encoded data removed]",
      "text/plain": [
       "<Figure size 640x480 with 1 Axes>"
      ]
     },
     "metadata": {},
     "output_type": "display_data"
    }
   ],
   "source": [
    "evaluate_model(model_2)\n",
    "plot_the_roc(model_2)"
   ]
  },
  {
   "cell_type": "code",
   "execution_count": 77,
   "metadata": {},
   "outputs": [
    {
     "name": "stdout",
     "output_type": "stream",
     "text": [
      "Model score: 0.8627\n",
      "Mean Accuracy using Cross-Validation: 0.8529\n",
      "Standard Deviation using Cross-Validation: 0.0154\n"
     ]
    },
    {
     "data": {
      "image/png": "[encoded data removed]",
      "text/plain": [
       "<Figure size 640x480 with 1 Axes>"
      ]
     },
     "metadata": {},
     "output_type": "display_data"
    }
   ],
   "source": [
    "model_3 = model_creation(32, 0.1, 8)\n",
    "evaluate_model(model_3)\n",
    "plot_the_roc(model_3)"
   ]
  },
  {
   "cell_type": "code",
   "execution_count": 82,
   "metadata": {},
   "outputs": [
    {
     "name": "stdout",
     "output_type": "stream",
     "text": [
      "Model score: 0.8633\n",
      "Mean Accuracy using Cross-Validation: 0.853\n",
      "Standard Deviation using Cross-Validation: 0.0157\n"
     ]
    },
    {
     "data": {
      "image/png": "[encoded data removed]",
      "text/plain": [
       "<Figure size 640x480 with 1 Axes>"
      ]
     },
     "metadata": {},
     "output_type": "display_data"
    }
   ],
   "source": [
    "model_4 = model_creation(100, 0.1, 8)\n",
    "evaluate_model(model_4)\n",
    "plot_the_roc(model_4)"
   ]
  },
  {
   "cell_type": "code",
   "execution_count": 88,
   "metadata": {},
   "outputs": [
    {
     "name": "stdout",
     "output_type": "stream",
     "text": [
      "Compare best models: \n",
      "\n",
      "Model_1 Results\n",
      "Model score: 0.8637\n",
      "Mean Accuracy using Cross-Validation: 0.8597\n",
      "Standard Deviation using Cross-Validation: 0.0202\n",
      "\n",
      "Model_4 results:\n",
      "Model score: 0.8633\n",
      "Mean Accuracy using Cross-Validation: 0.853\n",
      "Standard Deviation using Cross-Validation: 0.0157\n"
     ]
    }
   ],
   "source": [
    "print('Compare best models:', '\\n')\n",
    "\n",
    "print('Model_1 Results')\n",
    "evaluate_model(model_1)\n",
    "print('')\n",
    "print('Model_4 results:')\n",
    "evaluate_model(model_4)"
   ]
  },
  {
   "cell_type": "markdown",
   "metadata": {},
   "source": [
    "### Results\n",
    "After hyperparameter tuning, it seems the best AUC is 0.85 and the model accuracy is averaging 85-86% on the validation data. Model_1 appears to have slightly better performance over other parameter combinations."
   ]
  }
 ],
 "metadata": {
  "kernelspec": {
   "display_name": "Python 3",
   "language": "python",
   "name": "python3"
  },
  "language_info": {
   "codemirror_mode": {
    "name": "ipython",
    "version": 3
   },
   "file_extension": ".py",
   "mimetype": "text/x-python",
   "name": "python",
   "nbconvert_exporter": "python",
   "pygments_lexer": "ipython3",
   "version": "3.10.11"
  },
  "orig_nbformat": 4
 },
 "nbformat": 4,
 "nbformat_minor": 2
}
